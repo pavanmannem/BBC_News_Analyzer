{
 "cells": [
  {
   "cell_type": "code",
   "execution_count": 4,
   "metadata": {},
   "outputs": [],
   "source": [
    "import pandas as pd\n",
    "import numpy as np\n",
    "import seaborn as sns\n",
    "import matplotlib.pyplot as plt\n",
    "import os"
   ]
  },
  {
   "cell_type": "code",
   "execution_count": 5,
   "metadata": {},
   "outputs": [],
   "source": [
    "from IPython.core.interactiveshell import InteractiveShell\n",
    "InteractiveShell.ast_node_interactivity = \"all\"\n",
    "import warnings\n",
    "warnings.filterwarnings('ignore')"
   ]
  },
  {
   "cell_type": "markdown",
   "metadata": {},
   "source": [
    "# Data collection:"
   ]
  },
  {
   "cell_type": "code",
   "execution_count": 9,
   "metadata": {},
   "outputs": [
    {
     "data": {
      "text/plain": [
       "<matplotlib.axes._subplots.AxesSubplot at 0x1b523a53358>"
      ]
     },
     "execution_count": 9,
     "metadata": {},
     "output_type": "execute_result"
    },
    {
     "data": {
      "image/png": "[encoded data removed]",
      "text/plain": [
       "<Figure size 432x288 with 1 Axes>"
      ]
     },
     "metadata": {
      "needs_background": "light"
     },
     "output_type": "display_data"
    }
   ],
   "source": [
    "# Using os library for accessing folders\n",
    "os.chdir(r\"C:\\Users\\Pavan Mannem\\projects\\Endorsify\\BBC News Project\\bbc\")\n",
    "News = []\n",
    "Categories = []\n",
    "\n",
    "for i in [\"business\",\"entertainment\",\"politics\",\"sport\",\"tech\"]:\n",
    "    files = os.listdir(i)\n",
    "    for txt in files:\n",
    "        path = i + \"/\" + txt\n",
    "        with open(path) as article:\n",
    "            line = article.readlines()\n",
    "        data = ' '.join(line)\n",
    "        News.append(data)\n",
    "        Categories.append(i)\n",
    "\n",
    "# A dictionary is created and converted to a data frame to create a corpus for each text file\n",
    "# Each row of the dataframe is an article \n",
    "data = {'Category': Categories, 'News': News}       \n",
    "df = pd.DataFrame(data)\n",
    "sns.countplot(x='Category', data=df)\n",
    "pd.set_option('display.max_colwidth', -1)"
   ]
  },
  {
   "cell_type": "code",
   "execution_count": 10,
   "metadata": {},
   "outputs": [
    {
     "data": {
      "text/html": [
       "<div>\n",
       "<style scoped>\n",
       "    .dataframe tbody tr th:only-of-type {\n",
       "        vertical-align: middle;\n",
       "    }\n",
       "\n",
       "    .dataframe tbody tr th {\n",
       "        vertical-align: top;\n",
       "    }\n",
       "\n",
       "    .dataframe thead th {\n",
       "        text-align: right;\n",
       "    }\n",
       "</style>\n",
       "<table border=\"1\" class=\"dataframe\">\n",
       "  <thead>\n",
       "    <tr style=\"text-align: right;\">\n",
       "      <th></th>\n",
       "      <th>Category</th>\n",
       "      <th>News</th>\n",
       "    </tr>\n",
       "  </thead>\n",
       "  <tbody>\n",
       "    <tr>\n",
       "      <th>384</th>\n",
       "      <td>business</td>\n",
       "      <td>Tate &amp; Lyle boss bags top award\\n \\n Tate &amp; Lyle's chief executive has been named European Businessman of the Year by a leading business magazine.\\n \\n Iain Ferguson was awarded the title by US publication Forbes for returning one of the UK's \"venerable\" manufacturers to the country's top 100 companies. The sugar group had been absent from the FTSE 100 for seven years until Mr Ferguson helped it return to growth. Tate's shares have leapt 55% this year, boosted by firming sugar prices and sales of its artificial sweeteners.\\n \\n \"After years of a sagging stock price and a seven-year hiatus from the FTSE 100, one of Britain's venerable manufacturers has returned to the vaunted index,\" Forbes said. Mr Ferguson took the helm at the company in 2003, after spending most of his career at consumer goods giant Unilever. Tate &amp; Lyle, which was an original member of the historic FT-30 index in 1935, operates more than 41 factories and 20 more additional production facilities in 28 countries. Previous winners of the Forbes award include Royal Bank of Scotland chief executive Fred Goodwin and former Vodafone boss Chris Gent.\\n</td>\n",
       "    </tr>\n",
       "    <tr>\n",
       "      <th>1983</th>\n",
       "      <td>tech</td>\n",
       "      <td>Halo 2 sells five million copies\\n \\n Microsoft is celebrating bumper sales of its Xbox sci-fi shooter, Halo 2.\\n \\n The game has sold more than five million copies worldwide since it went on sale in mid-November, the company said. Halo 2 has proved popular online, with gamers notching up a record 28 million hours playing the game on Xbox Live. According to Microsoft, nine out of 10 Xbox Live members have played the game for an average of 91 minutes per session.\\n \\n The sequel to the best-selling Need for Speed: Underground has inched ahead of the competition to take the top slot in the official UK games charts. The racing game moved up one spot to first place, nudging GTA: San Andreas down to second place. Halo 2 dropped one place to five, while Half-Life 2 fell to number nine. Last week's new releases, GoldenEye: Rogue Agent and Killzone, both failed to make it into the top 10, debuting at number 11 and 12 respectively.\\n \\n Record numbers of Warcraft fans are settling in the games online world. On the opening day of the World of Warcraft massive multi-player online game more than 200,000 players signed up to play. On the evening of the first day more than 100,000 players were in the world, forcing Blizzard to add another 34 servers to cope with the influx. The online game turns the stand alone Warcraft games into a persistent world that players can inhabit not just visit\\n \\n Europe's gamers could be waiting until January to hear when they can get their mitts on Nintendo's handheld device, Nintendo DS, says gamesindustry.biz. David Yarnton, Nintendo UK general manager, told a press conference to look out for details in the New Year. Its US launch was on Sunday and it goes on sale in Japan on 2 December. Nintendo has a 95% share of the handheld gaming market and said it expected to sell around five million of the DS by March 2005.\\n</td>\n",
       "    </tr>\n",
       "    <tr>\n",
       "      <th>985</th>\n",
       "      <td>politics</td>\n",
       "      <td>MSPs hear renewed climate warning\\n \\n Climate change could be completely out of control within several decades, the Scottish Environment Protection Agency is warning a committee of MSPs.\\n \\n Experts are giving evidence on the subject to the Scottish Parliament's environment committee. Officials believe nuclear energy and wind farms may be better options than trying to tackle global warming. Solutions suggested by conservationists include reducing internal UK air travel and boosting electric trains. The evidence is part of the committee's inquiry into the impact of climate change in Scotland. Sepa is attempting to curb global warming gases, as pollution from transport emissions increases.\\n \\n Ecologists are warning MSPs that Scotland may have to accept \"significant intrusion\" from wind farms. It is likely also that nuclear power will be needed for possibly several decades. Sepa predict that the two methods will remain as energy sources until climate change is under control. Experts studying the seas off Scotland's west coast have already forecast more devastating weather of the type which caused havoc across the country last month.\\n \\n They predicted that damaging storms will become more frequent. Researchers from the University of the Highlands and Islands and Southampton have been looking at wave heights in the Atlantic over the last nine years. The project was conducted jointly by the Environmental Research Institute in Thurso, which is part of the University of the Highlands and Islands (UHI) Millennium Institute network, and the Southampton Oceanography Centre. Scientists carried out a series of studies, including the use of satellites to assess wave heights in the seas around the west coast and the Hebrides.\\n</td>\n",
       "    </tr>\n",
       "  </tbody>\n",
       "</table>\n",
       "</div>"
      ],
      "text/plain": [
       "      Category  \\\n",
       "384   business   \n",
       "1983  tech       \n",
       "985   politics   \n",
       "\n",
       "                                                                                                                                                                                                                                                                                                                                                                                                                                                                                                                                                                                                                                                                                                                                                                                                                                                                                                                                                                                                                                                                                                                                                                                                                                                                                                                                                                                                                                                                                                                                                                                                                                                                                                                                                                                                                                                                                                                                             News  \n",
       "384   Tate & Lyle boss bags top award\\n \\n Tate & Lyle's chief executive has been named European Businessman of the Year by a leading business magazine.\\n \\n Iain Ferguson was awarded the title by US publication Forbes for returning one of the UK's \"venerable\" manufacturers to the country's top 100 companies. The sugar group had been absent from the FTSE 100 for seven years until Mr Ferguson helped it return to growth. Tate's shares have leapt 55% this year, boosted by firming sugar prices and sales of its artificial sweeteners.\\n \\n \"After years of a sagging stock price and a seven-year hiatus from the FTSE 100, one of Britain's venerable manufacturers has returned to the vaunted index,\" Forbes said. Mr Ferguson took the helm at the company in 2003, after spending most of his career at consumer goods giant Unilever. Tate & Lyle, which was an original member of the historic FT-30 index in 1935, operates more than 41 factories and 20 more additional production facilities in 28 countries. Previous winners of the Forbes award include Royal Bank of Scotland chief executive Fred Goodwin and former Vodafone boss Chris Gent.\\n                                                                                                                                                                                                                                                                                                                                                                                                                                                                                                                                                                                                                                                                                                                                                                  \n",
       "1983  Halo 2 sells five million copies\\n \\n Microsoft is celebrating bumper sales of its Xbox sci-fi shooter, Halo 2.\\n \\n The game has sold more than five million copies worldwide since it went on sale in mid-November, the company said. Halo 2 has proved popular online, with gamers notching up a record 28 million hours playing the game on Xbox Live. According to Microsoft, nine out of 10 Xbox Live members have played the game for an average of 91 minutes per session.\\n \\n The sequel to the best-selling Need for Speed: Underground has inched ahead of the competition to take the top slot in the official UK games charts. The racing game moved up one spot to first place, nudging GTA: San Andreas down to second place. Halo 2 dropped one place to five, while Half-Life 2 fell to number nine. Last week's new releases, GoldenEye: Rogue Agent and Killzone, both failed to make it into the top 10, debuting at number 11 and 12 respectively.\\n \\n Record numbers of Warcraft fans are settling in the games online world. On the opening day of the World of Warcraft massive multi-player online game more than 200,000 players signed up to play. On the evening of the first day more than 100,000 players were in the world, forcing Blizzard to add another 34 servers to cope with the influx. The online game turns the stand alone Warcraft games into a persistent world that players can inhabit not just visit\\n \\n Europe's gamers could be waiting until January to hear when they can get their mitts on Nintendo's handheld device, Nintendo DS, says gamesindustry.biz. David Yarnton, Nintendo UK general manager, told a press conference to look out for details in the New Year. Its US launch was on Sunday and it goes on sale in Japan on 2 December. Nintendo has a 95% share of the handheld gaming market and said it expected to sell around five million of the DS by March 2005.\\n  \n",
       "985   MSPs hear renewed climate warning\\n \\n Climate change could be completely out of control within several decades, the Scottish Environment Protection Agency is warning a committee of MSPs.\\n \\n Experts are giving evidence on the subject to the Scottish Parliament's environment committee. Officials believe nuclear energy and wind farms may be better options than trying to tackle global warming. Solutions suggested by conservationists include reducing internal UK air travel and boosting electric trains. The evidence is part of the committee's inquiry into the impact of climate change in Scotland. Sepa is attempting to curb global warming gases, as pollution from transport emissions increases.\\n \\n Ecologists are warning MSPs that Scotland may have to accept \"significant intrusion\" from wind farms. It is likely also that nuclear power will be needed for possibly several decades. Sepa predict that the two methods will remain as energy sources until climate change is under control. Experts studying the seas off Scotland's west coast have already forecast more devastating weather of the type which caused havoc across the country last month.\\n \\n They predicted that damaging storms will become more frequent. Researchers from the University of the Highlands and Islands and Southampton have been looking at wave heights in the Atlantic over the last nine years. The project was conducted jointly by the Environmental Research Institute in Thurso, which is part of the University of the Highlands and Islands (UHI) Millennium Institute network, and the Southampton Oceanography Centre. Scientists carried out a series of studies, including the use of satellites to assess wave heights in the seas around the west coast and the Hebrides.\\n                                                                                                                         "
      ]
     },
     "execution_count": 10,
     "metadata": {},
     "output_type": "execute_result"
    }
   ],
   "source": [
    "df.sample(3,random_state=0)"
   ]
  },
  {
   "cell_type": "markdown",
   "metadata": {},
   "source": [
    "# Data Cleaning/preprocessing:"
   ]
  },
  {
   "cell_type": "code",
   "execution_count": 11,
   "metadata": {
    "scrolled": false
   },
   "outputs": [
    {
     "data": {
      "text/html": [
       "<div>\n",
       "<style scoped>\n",
       "    .dataframe tbody tr th:only-of-type {\n",
       "        vertical-align: middle;\n",
       "    }\n",
       "\n",
       "    .dataframe tbody tr th {\n",
       "        vertical-align: top;\n",
       "    }\n",
       "\n",
       "    .dataframe thead th {\n",
       "        text-align: right;\n",
       "    }\n",
       "</style>\n",
       "<table border=\"1\" class=\"dataframe\">\n",
       "  <thead>\n",
       "    <tr style=\"text-align: right;\">\n",
       "      <th></th>\n",
       "      <th>Category</th>\n",
       "      <th>News</th>\n",
       "    </tr>\n",
       "  </thead>\n",
       "  <tbody>\n",
       "    <tr>\n",
       "      <th>384</th>\n",
       "      <td>business</td>\n",
       "      <td>tate  lyle boss bags top award  tate  lyles chief executive has been named european businessman of the year by a leading business magazine  iain ferguson was awarded the title by us publication forbes for returning one of the uks venerable manufacturers to the countrys top  companies the sugar group had been absent from the ftse  for seven years until mr ferguson helped it return to growth tates shares have leapt  this year boosted by firming sugar prices and sales of its artificial sweeteners  after years of a sagging stock price and a sevenyear hiatus from the ftse  one of britains venerable manufacturers has returned to the vaunted index forbes said mr ferguson took the helm at the company in  after spending most of his career at consumer goods giant unilever tate  lyle which was an original member of the historic  index in  operates more than  factories and  more additional production facilities in  countries previous winners of the forbes award include royal bank of scotland chief executive fred goodwin and former vodafone boss chris gent</td>\n",
       "    </tr>\n",
       "    <tr>\n",
       "      <th>1983</th>\n",
       "      <td>tech</td>\n",
       "      <td>halo  sells five million copies  microsoft is celebrating bumper sales of its xbox scifi shooter halo   the game has sold more than five million copies worldwide since it went on sale in midnovember the company said halo  has proved popular online with gamers notching up a record  million hours playing the game on xbox live according to microsoft nine out of  xbox live members have played the game for an average of  minutes per session  the sequel to the bestselling need for speed underground has inched ahead of the competition to take the top slot in the official uk games charts the racing game moved up one spot to first place nudging gta san andreas down to second place halo  dropped one place to five while halflife  fell to number nine last weeks new releases goldeneye rogue agent and killzone both failed to make it into the top  debuting at number  and  respectively  record numbers of warcraft fans are settling in the games online world on the opening day of the world of warcraft massive multiplayer online game more than  players signed up to play on the evening of the first day more than  players were in the world forcing blizzard to add another  servers to cope with the influx the online game turns the stand alone warcraft games into a persistent world that players can inhabit not just visit  europes gamers could be waiting until january to hear when they can get their mitts on nintendos handheld device nintendo ds says gamesindustrybiz david yarnton nintendo uk general manager told a press conference to look out for details in the new year its us launch was on sunday and it goes on sale in japan on  december nintendo has a  share of the handheld gaming market and said it expected to sell around five million of the ds by march</td>\n",
       "    </tr>\n",
       "    <tr>\n",
       "      <th>985</th>\n",
       "      <td>politics</td>\n",
       "      <td>msps hear renewed climate warning  climate change could be completely out of control within several decades the scottish environment protection agency is warning a committee of msps  experts are giving evidence on the subject to the scottish parliaments environment committee officials believe nuclear energy and wind farms may be better options than trying to tackle global warming solutions suggested by conservationists include reducing internal uk air travel and boosting electric trains the evidence is part of the committees inquiry into the impact of climate change in scotland sepa is attempting to curb global warming gases as pollution from transport emissions increases  ecologists are warning msps that scotland may have to accept significant intrusion from wind farms it is likely also that nuclear power will be needed for possibly several decades sepa predict that the two methods will remain as energy sources until climate change is under control experts studying the seas off scotlands west coast have already forecast more devastating weather of the type which caused havoc across the country last month  they predicted that damaging storms will become more frequent researchers from the university of the highlands and islands and southampton have been looking at wave heights in the atlantic over the last nine years the project was conducted jointly by the environmental research institute in thurso which is part of the university of the highlands and islands uhi millennium institute network and the southampton oceanography centre scientists carried out a series of studies including the use of satellites to assess wave heights in the seas around the west coast and the hebrides</td>\n",
       "    </tr>\n",
       "  </tbody>\n",
       "</table>\n",
       "</div>"
      ],
      "text/plain": [
       "      Category  \\\n",
       "384   business   \n",
       "1983  tech       \n",
       "985   politics   \n",
       "\n",
       "                                                                                                                                                                                                                                                                                                                                                                                                                                                                                                                                                                                                                                                                                                                                                                                                                                                                                                                                                                                                                                                                                                                                                                                                                                                                                                                                                                                                                                                                                                                                                                                                                                                                                                                                                                                                                                     News  \n",
       "384   tate  lyle boss bags top award  tate  lyles chief executive has been named european businessman of the year by a leading business magazine  iain ferguson was awarded the title by us publication forbes for returning one of the uks venerable manufacturers to the countrys top  companies the sugar group had been absent from the ftse  for seven years until mr ferguson helped it return to growth tates shares have leapt  this year boosted by firming sugar prices and sales of its artificial sweeteners  after years of a sagging stock price and a sevenyear hiatus from the ftse  one of britains venerable manufacturers has returned to the vaunted index forbes said mr ferguson took the helm at the company in  after spending most of his career at consumer goods giant unilever tate  lyle which was an original member of the historic  index in  operates more than  factories and  more additional production facilities in  countries previous winners of the forbes award include royal bank of scotland chief executive fred goodwin and former vodafone boss chris gent                                                                                                                                                                                                                                                                                                                                                                                                                                                                                                                                                                                                                                                                                                                                  \n",
       "1983  halo  sells five million copies  microsoft is celebrating bumper sales of its xbox scifi shooter halo   the game has sold more than five million copies worldwide since it went on sale in midnovember the company said halo  has proved popular online with gamers notching up a record  million hours playing the game on xbox live according to microsoft nine out of  xbox live members have played the game for an average of  minutes per session  the sequel to the bestselling need for speed underground has inched ahead of the competition to take the top slot in the official uk games charts the racing game moved up one spot to first place nudging gta san andreas down to second place halo  dropped one place to five while halflife  fell to number nine last weeks new releases goldeneye rogue agent and killzone both failed to make it into the top  debuting at number  and  respectively  record numbers of warcraft fans are settling in the games online world on the opening day of the world of warcraft massive multiplayer online game more than  players signed up to play on the evening of the first day more than  players were in the world forcing blizzard to add another  servers to cope with the influx the online game turns the stand alone warcraft games into a persistent world that players can inhabit not just visit  europes gamers could be waiting until january to hear when they can get their mitts on nintendos handheld device nintendo ds says gamesindustrybiz david yarnton nintendo uk general manager told a press conference to look out for details in the new year its us launch was on sunday and it goes on sale in japan on  december nintendo has a  share of the handheld gaming market and said it expected to sell around five million of the ds by march   \n",
       "985   msps hear renewed climate warning  climate change could be completely out of control within several decades the scottish environment protection agency is warning a committee of msps  experts are giving evidence on the subject to the scottish parliaments environment committee officials believe nuclear energy and wind farms may be better options than trying to tackle global warming solutions suggested by conservationists include reducing internal uk air travel and boosting electric trains the evidence is part of the committees inquiry into the impact of climate change in scotland sepa is attempting to curb global warming gases as pollution from transport emissions increases  ecologists are warning msps that scotland may have to accept significant intrusion from wind farms it is likely also that nuclear power will be needed for possibly several decades sepa predict that the two methods will remain as energy sources until climate change is under control experts studying the seas off scotlands west coast have already forecast more devastating weather of the type which caused havoc across the country last month  they predicted that damaging storms will become more frequent researchers from the university of the highlands and islands and southampton have been looking at wave heights in the atlantic over the last nine years the project was conducted jointly by the environmental research institute in thurso which is part of the university of the highlands and islands uhi millennium institute network and the southampton oceanography centre scientists carried out a series of studies including the use of satellites to assess wave heights in the seas around the west coast and the hebrides                                                             "
      ]
     },
     "execution_count": 11,
     "metadata": {},
     "output_type": "execute_result"
    }
   ],
   "source": [
    "import re\n",
    "import string\n",
    "\n",
    "# Removing special characters, new lines, etc. \n",
    "def clean(text):\n",
    "    text = text.lower()\n",
    "    text = re.sub('\\n','',text) \n",
    "    text = re.sub('[.*?\\â£]', '', text)\n",
    "    text = re.sub('[%s]' % re.escape(string.punctuation), '', text)\n",
    "    text = re.sub('\\w*\\d\\w*', '', text)\n",
    "    return text\n",
    "\n",
    "cleaning = lambda x: clean(x)\n",
    "\n",
    "# Apply cleaning to data frame \n",
    "data_clean = pd.DataFrame(df['News'].apply(cleaning))\n",
    "data_clean['Category'] = Categories\n",
    "data_clean = data_clean[['Category','News']]\n",
    "data_clean.sample(3,random_state=0)"
   ]
  },
  {
   "cell_type": "markdown",
   "metadata": {},
   "source": [
    "# Text Tokenization "
   ]
  },
  {
   "cell_type": "code",
   "execution_count": 12,
   "metadata": {},
   "outputs": [
    {
     "data": {
      "text/html": [
       "<div>\n",
       "<style scoped>\n",
       "    .dataframe tbody tr th:only-of-type {\n",
       "        vertical-align: middle;\n",
       "    }\n",
       "\n",
       "    .dataframe tbody tr th {\n",
       "        vertical-align: top;\n",
       "    }\n",
       "\n",
       "    .dataframe thead th {\n",
       "        text-align: right;\n",
       "    }\n",
       "</style>\n",
       "<table border=\"1\" class=\"dataframe\">\n",
       "  <thead>\n",
       "    <tr style=\"text-align: right;\">\n",
       "      <th></th>\n",
       "      <th>us</th>\n",
       "      <th>united states</th>\n",
       "      <th>uk</th>\n",
       "      <th>united kingdom</th>\n",
       "      <th>argentina</th>\n",
       "      <th>australia</th>\n",
       "      <th>brazil</th>\n",
       "      <th>canada</th>\n",
       "      <th>china</th>\n",
       "      <th>france</th>\n",
       "      <th>...</th>\n",
       "      <th>indonesia</th>\n",
       "      <th>italy</th>\n",
       "      <th>japan</th>\n",
       "      <th>mexico</th>\n",
       "      <th>south korea</th>\n",
       "      <th>russia</th>\n",
       "      <th>saudi arabia</th>\n",
       "      <th>south africa</th>\n",
       "      <th>turkey</th>\n",
       "      <th>eu</th>\n",
       "    </tr>\n",
       "  </thead>\n",
       "  <tbody>\n",
       "    <tr>\n",
       "      <th>384</th>\n",
       "      <td>1</td>\n",
       "      <td>0</td>\n",
       "      <td>0</td>\n",
       "      <td>0</td>\n",
       "      <td>0</td>\n",
       "      <td>0</td>\n",
       "      <td>0</td>\n",
       "      <td>0</td>\n",
       "      <td>0</td>\n",
       "      <td>0</td>\n",
       "      <td>...</td>\n",
       "      <td>0</td>\n",
       "      <td>0</td>\n",
       "      <td>0</td>\n",
       "      <td>0</td>\n",
       "      <td>0</td>\n",
       "      <td>0</td>\n",
       "      <td>0</td>\n",
       "      <td>0</td>\n",
       "      <td>0</td>\n",
       "      <td>0</td>\n",
       "    </tr>\n",
       "    <tr>\n",
       "      <th>1983</th>\n",
       "      <td>1</td>\n",
       "      <td>0</td>\n",
       "      <td>2</td>\n",
       "      <td>0</td>\n",
       "      <td>0</td>\n",
       "      <td>0</td>\n",
       "      <td>0</td>\n",
       "      <td>0</td>\n",
       "      <td>0</td>\n",
       "      <td>0</td>\n",
       "      <td>...</td>\n",
       "      <td>0</td>\n",
       "      <td>0</td>\n",
       "      <td>1</td>\n",
       "      <td>0</td>\n",
       "      <td>0</td>\n",
       "      <td>0</td>\n",
       "      <td>0</td>\n",
       "      <td>0</td>\n",
       "      <td>0</td>\n",
       "      <td>0</td>\n",
       "    </tr>\n",
       "    <tr>\n",
       "      <th>985</th>\n",
       "      <td>0</td>\n",
       "      <td>0</td>\n",
       "      <td>1</td>\n",
       "      <td>0</td>\n",
       "      <td>0</td>\n",
       "      <td>0</td>\n",
       "      <td>0</td>\n",
       "      <td>0</td>\n",
       "      <td>0</td>\n",
       "      <td>0</td>\n",
       "      <td>...</td>\n",
       "      <td>0</td>\n",
       "      <td>0</td>\n",
       "      <td>0</td>\n",
       "      <td>0</td>\n",
       "      <td>0</td>\n",
       "      <td>0</td>\n",
       "      <td>0</td>\n",
       "      <td>0</td>\n",
       "      <td>0</td>\n",
       "      <td>0</td>\n",
       "    </tr>\n",
       "  </tbody>\n",
       "</table>\n",
       "<p>3 rows × 22 columns</p>\n",
       "</div>"
      ],
      "text/plain": [
       "      us  united states  uk  united kingdom  argentina  australia  brazil  \\\n",
       "384   1   0              0   0               0          0          0        \n",
       "1983  1   0              2   0               0          0          0        \n",
       "985   0   0              1   0               0          0          0        \n",
       "\n",
       "      canada  china  france ...  indonesia  italy  japan  mexico  south korea  \\\n",
       "384   0       0      0      ...  0          0      0      0       0             \n",
       "1983  0       0      0      ...  0          0      1      0       0             \n",
       "985   0       0      0      ...  0          0      0      0       0             \n",
       "\n",
       "      russia  saudi arabia  south africa  turkey  eu  \n",
       "384   0       0             0             0       0   \n",
       "1983  0       0             0             0       0   \n",
       "985   0       0             0             0       0   \n",
       "\n",
       "[3 rows x 22 columns]"
      ]
     },
     "execution_count": 12,
     "metadata": {},
     "output_type": "execute_result"
    }
   ],
   "source": [
    "from sklearn.feature_extraction.text import CountVectorizer\n",
    "\n",
    "# Stop words are not removed becuase countries like 'US' will be removed from the dataset\n",
    "# Split into unigrams and bigrams \n",
    "cv = CountVectorizer(ngram_range = (1,2), stop_words=None)\n",
    "data_cv = cv.fit_transform(data_clean['News'])\n",
    "\n",
    "# Create a document term matrix\n",
    "data_dtm = pd.DataFrame(data_cv.toarray(), columns=cv.get_feature_names())\n",
    "\n",
    "\n",
    "countries = ['us','united states','uk','united kingdom','argentina',\n",
    "             'australia','brazil','canada','china','france','germany',\n",
    "            'india','indonesia','italy','japan','mexico','south korea',\n",
    "             'russia','saudi arabia','south africa','turkey','eu']\n",
    "\n",
    "g20 = data_dtm.filter(countries)\n",
    "g20.sample(3,random_state=0)"
   ]
  },
  {
   "cell_type": "code",
   "execution_count": 13,
   "metadata": {},
   "outputs": [
    {
     "data": {
      "text/plain": [
       "(1420, 22)"
      ]
     },
     "execution_count": 13,
     "metadata": {},
     "output_type": "execute_result"
    }
   ],
   "source": [
    "# Remove every row that has 0 for every column\n",
    "# This removes articles that are not about G20 countries \n",
    "g20 = g20[~(g20==0).all(1)]\n",
    "\n",
    "# The amount of rows after removal is the number of G20 articles\n",
    "g20.shape"
   ]
  },
  {
   "cell_type": "markdown",
   "metadata": {},
   "source": [
    "## Total number of G20 articles = 1420"
   ]
  },
  {
   "cell_type": "code",
   "execution_count": 14,
   "metadata": {},
   "outputs": [
    {
     "data": {
      "text/html": [
       "<div>\n",
       "<style scoped>\n",
       "    .dataframe tbody tr th:only-of-type {\n",
       "        vertical-align: middle;\n",
       "    }\n",
       "\n",
       "    .dataframe tbody tr th {\n",
       "        vertical-align: top;\n",
       "    }\n",
       "\n",
       "    .dataframe thead th {\n",
       "        text-align: right;\n",
       "    }\n",
       "</style>\n",
       "<table border=\"1\" class=\"dataframe\">\n",
       "  <thead>\n",
       "    <tr style=\"text-align: right;\">\n",
       "      <th></th>\n",
       "      <th>argentina</th>\n",
       "      <th>australia</th>\n",
       "      <th>brazil</th>\n",
       "      <th>canada</th>\n",
       "      <th>china</th>\n",
       "      <th>france</th>\n",
       "      <th>germany</th>\n",
       "      <th>india</th>\n",
       "      <th>indonesia</th>\n",
       "      <th>italy</th>\n",
       "      <th>japan</th>\n",
       "      <th>mexico</th>\n",
       "      <th>south korea</th>\n",
       "      <th>russia</th>\n",
       "      <th>saudi arabia</th>\n",
       "      <th>south africa</th>\n",
       "      <th>turkey</th>\n",
       "      <th>eu</th>\n",
       "      <th>usa</th>\n",
       "      <th>uk</th>\n",
       "    </tr>\n",
       "  </thead>\n",
       "  <tbody>\n",
       "    <tr>\n",
       "      <th>0</th>\n",
       "      <td>0</td>\n",
       "      <td>0</td>\n",
       "      <td>0</td>\n",
       "      <td>0</td>\n",
       "      <td>0</td>\n",
       "      <td>0</td>\n",
       "      <td>0</td>\n",
       "      <td>0</td>\n",
       "      <td>0</td>\n",
       "      <td>0</td>\n",
       "      <td>0</td>\n",
       "      <td>0</td>\n",
       "      <td>0</td>\n",
       "      <td>0</td>\n",
       "      <td>0</td>\n",
       "      <td>0</td>\n",
       "      <td>0</td>\n",
       "      <td>0</td>\n",
       "      <td>3</td>\n",
       "      <td>0</td>\n",
       "    </tr>\n",
       "    <tr>\n",
       "      <th>1</th>\n",
       "      <td>0</td>\n",
       "      <td>0</td>\n",
       "      <td>0</td>\n",
       "      <td>0</td>\n",
       "      <td>1</td>\n",
       "      <td>0</td>\n",
       "      <td>0</td>\n",
       "      <td>0</td>\n",
       "      <td>0</td>\n",
       "      <td>0</td>\n",
       "      <td>0</td>\n",
       "      <td>0</td>\n",
       "      <td>0</td>\n",
       "      <td>0</td>\n",
       "      <td>0</td>\n",
       "      <td>0</td>\n",
       "      <td>0</td>\n",
       "      <td>0</td>\n",
       "      <td>7</td>\n",
       "      <td>0</td>\n",
       "    </tr>\n",
       "    <tr>\n",
       "      <th>2</th>\n",
       "      <td>0</td>\n",
       "      <td>0</td>\n",
       "      <td>0</td>\n",
       "      <td>0</td>\n",
       "      <td>0</td>\n",
       "      <td>0</td>\n",
       "      <td>0</td>\n",
       "      <td>0</td>\n",
       "      <td>0</td>\n",
       "      <td>0</td>\n",
       "      <td>0</td>\n",
       "      <td>0</td>\n",
       "      <td>0</td>\n",
       "      <td>1</td>\n",
       "      <td>0</td>\n",
       "      <td>0</td>\n",
       "      <td>0</td>\n",
       "      <td>0</td>\n",
       "      <td>2</td>\n",
       "      <td>0</td>\n",
       "    </tr>\n",
       "    <tr>\n",
       "      <th>3</th>\n",
       "      <td>0</td>\n",
       "      <td>0</td>\n",
       "      <td>0</td>\n",
       "      <td>0</td>\n",
       "      <td>0</td>\n",
       "      <td>0</td>\n",
       "      <td>0</td>\n",
       "      <td>0</td>\n",
       "      <td>0</td>\n",
       "      <td>0</td>\n",
       "      <td>0</td>\n",
       "      <td>0</td>\n",
       "      <td>0</td>\n",
       "      <td>0</td>\n",
       "      <td>0</td>\n",
       "      <td>0</td>\n",
       "      <td>0</td>\n",
       "      <td>0</td>\n",
       "      <td>1</td>\n",
       "      <td>0</td>\n",
       "    </tr>\n",
       "    <tr>\n",
       "      <th>4</th>\n",
       "      <td>0</td>\n",
       "      <td>0</td>\n",
       "      <td>0</td>\n",
       "      <td>0</td>\n",
       "      <td>0</td>\n",
       "      <td>0</td>\n",
       "      <td>0</td>\n",
       "      <td>0</td>\n",
       "      <td>0</td>\n",
       "      <td>0</td>\n",
       "      <td>0</td>\n",
       "      <td>0</td>\n",
       "      <td>0</td>\n",
       "      <td>0</td>\n",
       "      <td>0</td>\n",
       "      <td>0</td>\n",
       "      <td>0</td>\n",
       "      <td>0</td>\n",
       "      <td>1</td>\n",
       "      <td>1</td>\n",
       "    </tr>\n",
       "  </tbody>\n",
       "</table>\n",
       "</div>"
      ],
      "text/plain": [
       "   argentina  australia  brazil  canada  china  france  germany  india  \\\n",
       "0  0          0          0       0       0      0       0        0       \n",
       "1  0          0          0       0       1      0       0        0       \n",
       "2  0          0          0       0       0      0       0        0       \n",
       "3  0          0          0       0       0      0       0        0       \n",
       "4  0          0          0       0       0      0       0        0       \n",
       "\n",
       "   indonesia  italy  japan  mexico  south korea  russia  saudi arabia  \\\n",
       "0  0          0      0      0       0            0       0              \n",
       "1  0          0      0      0       0            0       0              \n",
       "2  0          0      0      0       0            1       0              \n",
       "3  0          0      0      0       0            0       0              \n",
       "4  0          0      0      0       0            0       0              \n",
       "\n",
       "   south africa  turkey  eu  usa  uk  \n",
       "0  0             0       0   3    0   \n",
       "1  0             0       0   7    0   \n",
       "2  0             0       0   2    0   \n",
       "3  0             0       0   1    0   \n",
       "4  0             0       0   1    1   "
      ]
     },
     "execution_count": 14,
     "metadata": {},
     "output_type": "execute_result"
    }
   ],
   "source": [
    "# Combine multiple spellings of 'US' and 'UK' and add them back to the dataframe \n",
    "us_total = g20['us'] + g20['united states']\n",
    "uk_total = g20['uk'] + g20['united kingdom']\n",
    "g20['usa'] = us_total\n",
    "g20['United kingdom'] = uk_total\n",
    "g20 = g20.drop(['us','united states','uk','united kingdom'],axis=1)\n",
    "g20.rename(columns={'United kingdom':'uk'}, inplace=True)\n",
    "g20.head()"
   ]
  },
  {
   "cell_type": "markdown",
   "metadata": {},
   "source": [
    "## Number of G20 articles per country "
   ]
  },
  {
   "cell_type": "code",
   "execution_count": 15,
   "metadata": {},
   "outputs": [
    {
     "data": {
      "text/plain": [
       "<matplotlib.axes._subplots.AxesSubplot at 0x1b527e76e80>"
      ]
     },
     "execution_count": 15,
     "metadata": {},
     "output_type": "execute_result"
    },
    {
     "data": {
      "image/png": "[encoded data removed]",
      "text/plain": [
       "<Figure size 432x288 with 1 Axes>"
      ]
     },
     "metadata": {
      "needs_background": "light"
     },
     "output_type": "display_data"
    }
   ],
   "source": [
    "# Count the rows in each column that are not 0\n",
    "# Gives the number of articles per country\n",
    "articles_per_country = g20.astype(bool).sum(axis=0)\n",
    "articles_per_country.name = 'count'\n",
    "apc_df = articles_per_country.to_frame()\n",
    "apc_df.plot.barh()\n"
   ]
  },
  {
   "cell_type": "markdown",
   "metadata": {},
   "source": [
    "## Find the overlap of countries"
   ]
  },
  {
   "cell_type": "code",
   "execution_count": 16,
   "metadata": {
    "scrolled": false
   },
   "outputs": [
    {
     "data": {
      "text/plain": [
       "1     [china, usa]                                         \n",
       "2     [russia, usa]                                        \n",
       "4     [usa, uk]                                            \n",
       "7     [brazil, china, india, russia, south africa, usa, uk]\n",
       "11    [indonesia, usa]                                     \n",
       "dtype: object"
      ]
     },
     "execution_count": 16,
     "metadata": {},
     "output_type": "execute_result"
    }
   ],
   "source": [
    "cols = g20.columns\n",
    "\n",
    "# Remove empty rows\n",
    "# Create a list for each article that contains the countries included\n",
    "overlap = g20.apply(lambda x: ~(x == 0))\n",
    "overlap = overlap.apply(lambda x: np.array(cols[x.values]), axis=1)\n",
    "\n",
    "# Drop single country articles \n",
    "for i in overlap.index:\n",
    "    if (len(overlap[i]) < 2):\n",
    "        overlap = overlap.drop(i)\n",
    "\n",
    "overlap.head()"
   ]
  },
  {
   "cell_type": "markdown",
   "metadata": {},
   "source": [
    "## Using tf-idf to find important words by section of articles"
   ]
  },
  {
   "cell_type": "code",
   "execution_count": 17,
   "metadata": {
    "scrolled": false
   },
   "outputs": [
    {
     "name": "stdout",
     "output_type": "stream",
     "text": [
      "business ---------------------\n",
      "unigrams: \n"
     ]
    },
    {
     "data": {
      "text/html": [
       "<div>\n",
       "<style scoped>\n",
       "    .dataframe tbody tr th:only-of-type {\n",
       "        vertical-align: middle;\n",
       "    }\n",
       "\n",
       "    .dataframe tbody tr th {\n",
       "        vertical-align: top;\n",
       "    }\n",
       "\n",
       "    .dataframe thead th {\n",
       "        text-align: right;\n",
       "    }\n",
       "</style>\n",
       "<table border=\"1\" class=\"dataframe\">\n",
       "  <thead>\n",
       "    <tr style=\"text-align: right;\">\n",
       "      <th></th>\n",
       "      <th>term</th>\n",
       "      <th>weight</th>\n",
       "    </tr>\n",
       "  </thead>\n",
       "  <tbody>\n",
       "    <tr>\n",
       "      <th>4538</th>\n",
       "      <td>growth</td>\n",
       "      <td>0.022846</td>\n",
       "    </tr>\n",
       "    <tr>\n",
       "      <th>3279</th>\n",
       "      <td>economy</td>\n",
       "      <td>0.021755</td>\n",
       "    </tr>\n",
       "    <tr>\n",
       "      <th>9004</th>\n",
       "      <td>sales</td>\n",
       "      <td>0.021391</td>\n",
       "    </tr>\n",
       "    <tr>\n",
       "      <th>890</th>\n",
       "      <td>bank</td>\n",
       "      <td>0.019562</td>\n",
       "    </tr>\n",
       "    <tr>\n",
       "      <th>6268</th>\n",
       "      <td>market</td>\n",
       "      <td>0.019376</td>\n",
       "    </tr>\n",
       "    <tr>\n",
       "      <th>7082</th>\n",
       "      <td>oil</td>\n",
       "      <td>0.019229</td>\n",
       "    </tr>\n",
       "  </tbody>\n",
       "</table>\n",
       "</div>"
      ],
      "text/plain": [
       "         term    weight\n",
       "4538  growth   0.022846\n",
       "3279  economy  0.021755\n",
       "9004  sales    0.021391\n",
       "890   bank     0.019562\n",
       "6268  market   0.019376\n",
       "7082  oil      0.019229"
      ]
     },
     "execution_count": 17,
     "metadata": {},
     "output_type": "execute_result"
    },
    {
     "name": "stdout",
     "output_type": "stream",
     "text": [
      "bigrams: \n"
     ]
    },
    {
     "data": {
      "text/html": [
       "<div>\n",
       "<style scoped>\n",
       "    .dataframe tbody tr th:only-of-type {\n",
       "        vertical-align: middle;\n",
       "    }\n",
       "\n",
       "    .dataframe tbody tr th {\n",
       "        vertical-align: top;\n",
       "    }\n",
       "\n",
       "    .dataframe thead th {\n",
       "        text-align: right;\n",
       "    }\n",
       "</style>\n",
       "<table border=\"1\" class=\"dataframe\">\n",
       "  <thead>\n",
       "    <tr style=\"text-align: right;\">\n",
       "      <th></th>\n",
       "      <th>term</th>\n",
       "      <th>weight</th>\n",
       "    </tr>\n",
       "  </thead>\n",
       "  <tbody>\n",
       "    <tr>\n",
       "      <th>9910</th>\n",
       "      <td>chief executive</td>\n",
       "      <td>0.007586</td>\n",
       "    </tr>\n",
       "    <tr>\n",
       "      <th>19256</th>\n",
       "      <td>economic growth</td>\n",
       "      <td>0.005721</td>\n",
       "    </tr>\n",
       "    <tr>\n",
       "      <th>17150</th>\n",
       "      <td>deutsche boerse</td>\n",
       "      <td>0.005627</td>\n",
       "    </tr>\n",
       "    <tr>\n",
       "      <th>59827</th>\n",
       "      <td>stock market</td>\n",
       "      <td>0.005439</td>\n",
       "    </tr>\n",
       "    <tr>\n",
       "      <th>43042</th>\n",
       "      <td>oil prices</td>\n",
       "      <td>0.005203</td>\n",
       "    </tr>\n",
       "    <tr>\n",
       "      <th>59820</th>\n",
       "      <td>stock exchange</td>\n",
       "      <td>0.004085</td>\n",
       "    </tr>\n",
       "  </tbody>\n",
       "</table>\n",
       "</div>"
      ],
      "text/plain": [
       "                  term    weight\n",
       "9910   chief executive  0.007586\n",
       "19256  economic growth  0.005721\n",
       "17150  deutsche boerse  0.005627\n",
       "59827  stock market     0.005439\n",
       "43042  oil prices       0.005203\n",
       "59820  stock exchange   0.004085"
      ]
     },
     "execution_count": 17,
     "metadata": {},
     "output_type": "execute_result"
    },
    {
     "name": "stdout",
     "output_type": "stream",
     "text": [
      "entertainment ---------------------\n",
      "unigrams: \n"
     ]
    },
    {
     "data": {
      "text/html": [
       "<div>\n",
       "<style scoped>\n",
       "    .dataframe tbody tr th:only-of-type {\n",
       "        vertical-align: middle;\n",
       "    }\n",
       "\n",
       "    .dataframe tbody tr th {\n",
       "        vertical-align: top;\n",
       "    }\n",
       "\n",
       "    .dataframe thead th {\n",
       "        text-align: right;\n",
       "    }\n",
       "</style>\n",
       "<table border=\"1\" class=\"dataframe\">\n",
       "  <thead>\n",
       "    <tr style=\"text-align: right;\">\n",
       "      <th></th>\n",
       "      <th>term</th>\n",
       "      <th>weight</th>\n",
       "    </tr>\n",
       "  </thead>\n",
       "  <tbody>\n",
       "    <tr>\n",
       "      <th>3977</th>\n",
       "      <td>film</td>\n",
       "      <td>0.045449</td>\n",
       "    </tr>\n",
       "    <tr>\n",
       "      <th>1000</th>\n",
       "      <td>best</td>\n",
       "      <td>0.037138</td>\n",
       "    </tr>\n",
       "    <tr>\n",
       "      <th>6907</th>\n",
       "      <td>music</td>\n",
       "      <td>0.023723</td>\n",
       "    </tr>\n",
       "    <tr>\n",
       "      <th>7177</th>\n",
       "      <td>number</td>\n",
       "      <td>0.021188</td>\n",
       "    </tr>\n",
       "    <tr>\n",
       "      <th>729</th>\n",
       "      <td>awards</td>\n",
       "      <td>0.020603</td>\n",
       "    </tr>\n",
       "    <tr>\n",
       "      <th>11638</th>\n",
       "      <td>years</td>\n",
       "      <td>0.019234</td>\n",
       "    </tr>\n",
       "  </tbody>\n",
       "</table>\n",
       "</div>"
      ],
      "text/plain": [
       "         term    weight\n",
       "3977   film    0.045449\n",
       "1000   best    0.037138\n",
       "6907   music   0.023723\n",
       "7177   number  0.021188\n",
       "729    awards  0.020603\n",
       "11638  years   0.019234"
      ]
     },
     "execution_count": 17,
     "metadata": {},
     "output_type": "execute_result"
    },
    {
     "name": "stdout",
     "output_type": "stream",
     "text": [
      "bigrams: \n"
     ]
    },
    {
     "data": {
      "text/html": [
       "<div>\n",
       "<style scoped>\n",
       "    .dataframe tbody tr th:only-of-type {\n",
       "        vertical-align: middle;\n",
       "    }\n",
       "\n",
       "    .dataframe tbody tr th {\n",
       "        vertical-align: top;\n",
       "    }\n",
       "\n",
       "    .dataframe thead th {\n",
       "        text-align: right;\n",
       "    }\n",
       "</style>\n",
       "<table border=\"1\" class=\"dataframe\">\n",
       "  <thead>\n",
       "    <tr style=\"text-align: right;\">\n",
       "      <th></th>\n",
       "      <th>term</th>\n",
       "      <th>weight</th>\n",
       "    </tr>\n",
       "  </thead>\n",
       "  <tbody>\n",
       "    <tr>\n",
       "      <th>5816</th>\n",
       "      <td>box office</td>\n",
       "      <td>0.010036</td>\n",
       "    </tr>\n",
       "    <tr>\n",
       "      <th>28979</th>\n",
       "      <td>million dollar</td>\n",
       "      <td>0.005846</td>\n",
       "    </tr>\n",
       "    <tr>\n",
       "      <th>13636</th>\n",
       "      <td>dollar baby</td>\n",
       "      <td>0.005531</td>\n",
       "    </tr>\n",
       "    <tr>\n",
       "      <th>17266</th>\n",
       "      <td>film festival</td>\n",
       "      <td>0.005447</td>\n",
       "    </tr>\n",
       "    <tr>\n",
       "      <th>27199</th>\n",
       "      <td>los angeles</td>\n",
       "      <td>0.005429</td>\n",
       "    </tr>\n",
       "    <tr>\n",
       "      <th>4804</th>\n",
       "      <td>best film</td>\n",
       "      <td>0.005408</td>\n",
       "    </tr>\n",
       "  </tbody>\n",
       "</table>\n",
       "</div>"
      ],
      "text/plain": [
       "                 term    weight\n",
       "5816   box office      0.010036\n",
       "28979  million dollar  0.005846\n",
       "13636  dollar baby     0.005531\n",
       "17266  film festival   0.005447\n",
       "27199  los angeles     0.005429\n",
       "4804   best film       0.005408"
      ]
     },
     "execution_count": 17,
     "metadata": {},
     "output_type": "execute_result"
    },
    {
     "name": "stdout",
     "output_type": "stream",
     "text": [
      "politics ---------------------\n",
      "unigrams: \n"
     ]
    },
    {
     "data": {
      "text/html": [
       "<div>\n",
       "<style scoped>\n",
       "    .dataframe tbody tr th:only-of-type {\n",
       "        vertical-align: middle;\n",
       "    }\n",
       "\n",
       "    .dataframe tbody tr th {\n",
       "        vertical-align: top;\n",
       "    }\n",
       "\n",
       "    .dataframe thead th {\n",
       "        text-align: right;\n",
       "    }\n",
       "</style>\n",
       "<table border=\"1\" class=\"dataframe\">\n",
       "  <thead>\n",
       "    <tr style=\"text-align: right;\">\n",
       "      <th></th>\n",
       "      <th>term</th>\n",
       "      <th>weight</th>\n",
       "    </tr>\n",
       "  </thead>\n",
       "  <tbody>\n",
       "    <tr>\n",
       "      <th>5583</th>\n",
       "      <td>labour</td>\n",
       "      <td>0.032965</td>\n",
       "    </tr>\n",
       "    <tr>\n",
       "      <th>3193</th>\n",
       "      <td>election</td>\n",
       "      <td>0.032752</td>\n",
       "    </tr>\n",
       "    <tr>\n",
       "      <th>1036</th>\n",
       "      <td>blair</td>\n",
       "      <td>0.032200</td>\n",
       "    </tr>\n",
       "    <tr>\n",
       "      <th>7099</th>\n",
       "      <td>party</td>\n",
       "      <td>0.027127</td>\n",
       "    </tr>\n",
       "    <tr>\n",
       "      <th>1257</th>\n",
       "      <td>brown</td>\n",
       "      <td>0.026566</td>\n",
       "    </tr>\n",
       "    <tr>\n",
       "      <th>4283</th>\n",
       "      <td>government</td>\n",
       "      <td>0.026537</td>\n",
       "    </tr>\n",
       "  </tbody>\n",
       "</table>\n",
       "</div>"
      ],
      "text/plain": [
       "            term    weight\n",
       "5583  labour      0.032965\n",
       "3193  election    0.032752\n",
       "1036  blair       0.032200\n",
       "7099  party       0.027127\n",
       "1257  brown       0.026566\n",
       "4283  government  0.026537"
      ]
     },
     "execution_count": 17,
     "metadata": {},
     "output_type": "execute_result"
    },
    {
     "name": "stdout",
     "output_type": "stream",
     "text": [
      "bigrams: \n"
     ]
    },
    {
     "data": {
      "text/html": [
       "<div>\n",
       "<style scoped>\n",
       "    .dataframe tbody tr th:only-of-type {\n",
       "        vertical-align: middle;\n",
       "    }\n",
       "\n",
       "    .dataframe tbody tr th {\n",
       "        vertical-align: top;\n",
       "    }\n",
       "\n",
       "    .dataframe thead th {\n",
       "        text-align: right;\n",
       "    }\n",
       "</style>\n",
       "<table border=\"1\" class=\"dataframe\">\n",
       "  <thead>\n",
       "    <tr style=\"text-align: right;\">\n",
       "      <th></th>\n",
       "      <th>term</th>\n",
       "      <th>weight</th>\n",
       "    </tr>\n",
       "  </thead>\n",
       "  <tbody>\n",
       "    <tr>\n",
       "      <th>47151</th>\n",
       "      <td>prime minister</td>\n",
       "      <td>0.013791</td>\n",
       "    </tr>\n",
       "    <tr>\n",
       "      <th>24797</th>\n",
       "      <td>general election</td>\n",
       "      <td>0.010032</td>\n",
       "    </tr>\n",
       "    <tr>\n",
       "      <th>62046</th>\n",
       "      <td>tony blair</td>\n",
       "      <td>0.009305</td>\n",
       "    </tr>\n",
       "    <tr>\n",
       "      <th>34823</th>\n",
       "      <td>lib dems</td>\n",
       "      <td>0.008508</td>\n",
       "    </tr>\n",
       "    <tr>\n",
       "      <th>28683</th>\n",
       "      <td>human rights</td>\n",
       "      <td>0.008369</td>\n",
       "    </tr>\n",
       "    <tr>\n",
       "      <th>38133</th>\n",
       "      <td>michael howard</td>\n",
       "      <td>0.007853</td>\n",
       "    </tr>\n",
       "  </tbody>\n",
       "</table>\n",
       "</div>"
      ],
      "text/plain": [
       "                   term    weight\n",
       "47151  prime minister    0.013791\n",
       "24797  general election  0.010032\n",
       "62046  tony blair        0.009305\n",
       "34823  lib dems          0.008508\n",
       "28683  human rights      0.008369\n",
       "38133  michael howard    0.007853"
      ]
     },
     "execution_count": 17,
     "metadata": {},
     "output_type": "execute_result"
    },
    {
     "name": "stdout",
     "output_type": "stream",
     "text": [
      "sport ---------------------\n",
      "unigrams: \n"
     ]
    },
    {
     "data": {
      "text/html": [
       "<div>\n",
       "<style scoped>\n",
       "    .dataframe tbody tr th:only-of-type {\n",
       "        vertical-align: middle;\n",
       "    }\n",
       "\n",
       "    .dataframe tbody tr th {\n",
       "        vertical-align: top;\n",
       "    }\n",
       "\n",
       "    .dataframe thead th {\n",
       "        text-align: right;\n",
       "    }\n",
       "</style>\n",
       "<table border=\"1\" class=\"dataframe\">\n",
       "  <thead>\n",
       "    <tr style=\"text-align: right;\">\n",
       "      <th></th>\n",
       "      <th>term</th>\n",
       "      <th>weight</th>\n",
       "    </tr>\n",
       "  </thead>\n",
       "  <tbody>\n",
       "    <tr>\n",
       "      <th>3025</th>\n",
       "      <td>england</td>\n",
       "      <td>0.024411</td>\n",
       "    </tr>\n",
       "    <tr>\n",
       "      <th>3809</th>\n",
       "      <td>game</td>\n",
       "      <td>0.022436</td>\n",
       "    </tr>\n",
       "    <tr>\n",
       "      <th>10642</th>\n",
       "      <td>world</td>\n",
       "      <td>0.020797</td>\n",
       "    </tr>\n",
       "    <tr>\n",
       "      <th>10565</th>\n",
       "      <td>win</td>\n",
       "      <td>0.020384</td>\n",
       "    </tr>\n",
       "    <tr>\n",
       "      <th>10371</th>\n",
       "      <td>wales</td>\n",
       "      <td>0.018820</td>\n",
       "    </tr>\n",
       "    <tr>\n",
       "      <th>2186</th>\n",
       "      <td>cup</td>\n",
       "      <td>0.017777</td>\n",
       "    </tr>\n",
       "  </tbody>\n",
       "</table>\n",
       "</div>"
      ],
      "text/plain": [
       "          term    weight\n",
       "3025   england  0.024411\n",
       "3809   game     0.022436\n",
       "10642  world    0.020797\n",
       "10565  win      0.020384\n",
       "10371  wales    0.018820\n",
       "2186   cup      0.017777"
      ]
     },
     "execution_count": 17,
     "metadata": {},
     "output_type": "execute_result"
    },
    {
     "name": "stdout",
     "output_type": "stream",
     "text": [
      "bigrams: \n"
     ]
    },
    {
     "data": {
      "text/html": [
       "<div>\n",
       "<style scoped>\n",
       "    .dataframe tbody tr th:only-of-type {\n",
       "        vertical-align: middle;\n",
       "    }\n",
       "\n",
       "    .dataframe tbody tr th {\n",
       "        vertical-align: top;\n",
       "    }\n",
       "\n",
       "    .dataframe thead th {\n",
       "        text-align: right;\n",
       "    }\n",
       "</style>\n",
       "<table border=\"1\" class=\"dataframe\">\n",
       "  <thead>\n",
       "    <tr style=\"text-align: right;\">\n",
       "      <th></th>\n",
       "      <th>term</th>\n",
       "      <th>weight</th>\n",
       "    </tr>\n",
       "  </thead>\n",
       "  <tbody>\n",
       "    <tr>\n",
       "      <th>3055</th>\n",
       "      <td>australian open</td>\n",
       "      <td>0.006481</td>\n",
       "    </tr>\n",
       "    <tr>\n",
       "      <th>8002</th>\n",
       "      <td>champions league</td>\n",
       "      <td>0.006463</td>\n",
       "    </tr>\n",
       "    <tr>\n",
       "      <th>62788</th>\n",
       "      <td>world cup</td>\n",
       "      <td>0.006312</td>\n",
       "    </tr>\n",
       "    <tr>\n",
       "      <th>23177</th>\n",
       "      <td>grand slam</td>\n",
       "      <td>0.006136</td>\n",
       "    </tr>\n",
       "    <tr>\n",
       "      <th>12683</th>\n",
       "      <td>davis cup</td>\n",
       "      <td>0.005343</td>\n",
       "    </tr>\n",
       "    <tr>\n",
       "      <th>62835</th>\n",
       "      <td>world number</td>\n",
       "      <td>0.004595</td>\n",
       "    </tr>\n",
       "  </tbody>\n",
       "</table>\n",
       "</div>"
      ],
      "text/plain": [
       "                   term    weight\n",
       "3055   australian open   0.006481\n",
       "8002   champions league  0.006463\n",
       "62788  world cup         0.006312\n",
       "23177  grand slam        0.006136\n",
       "12683  davis cup         0.005343\n",
       "62835  world number      0.004595"
      ]
     },
     "execution_count": 17,
     "metadata": {},
     "output_type": "execute_result"
    },
    {
     "name": "stdout",
     "output_type": "stream",
     "text": [
      "tech ---------------------\n",
      "unigrams: \n"
     ]
    },
    {
     "data": {
      "text/html": [
       "<div>\n",
       "<style scoped>\n",
       "    .dataframe tbody tr th:only-of-type {\n",
       "        vertical-align: middle;\n",
       "    }\n",
       "\n",
       "    .dataframe tbody tr th {\n",
       "        vertical-align: top;\n",
       "    }\n",
       "\n",
       "    .dataframe thead th {\n",
       "        text-align: right;\n",
       "    }\n",
       "</style>\n",
       "<table border=\"1\" class=\"dataframe\">\n",
       "  <thead>\n",
       "    <tr style=\"text-align: right;\">\n",
       "      <th></th>\n",
       "      <th>term</th>\n",
       "      <th>weight</th>\n",
       "    </tr>\n",
       "  </thead>\n",
       "  <tbody>\n",
       "    <tr>\n",
       "      <th>7786</th>\n",
       "      <td>people</td>\n",
       "      <td>0.033242</td>\n",
       "    </tr>\n",
       "    <tr>\n",
       "      <th>6819</th>\n",
       "      <td>mobile</td>\n",
       "      <td>0.028743</td>\n",
       "    </tr>\n",
       "    <tr>\n",
       "      <th>4427</th>\n",
       "      <td>games</td>\n",
       "      <td>0.024900</td>\n",
       "    </tr>\n",
       "    <tr>\n",
       "      <th>6996</th>\n",
       "      <td>music</td>\n",
       "      <td>0.023693</td>\n",
       "    </tr>\n",
       "    <tr>\n",
       "      <th>9966</th>\n",
       "      <td>software</td>\n",
       "      <td>0.022660</td>\n",
       "    </tr>\n",
       "    <tr>\n",
       "      <th>10769</th>\n",
       "      <td>technology</td>\n",
       "      <td>0.021742</td>\n",
       "    </tr>\n",
       "  </tbody>\n",
       "</table>\n",
       "</div>"
      ],
      "text/plain": [
       "             term    weight\n",
       "7786   people      0.033242\n",
       "6819   mobile      0.028743\n",
       "4427   games       0.024900\n",
       "6996   music       0.023693\n",
       "9966   software    0.022660\n",
       "10769  technology  0.021742"
      ]
     },
     "execution_count": 17,
     "metadata": {},
     "output_type": "execute_result"
    },
    {
     "name": "stdout",
     "output_type": "stream",
     "text": [
      "bigrams: \n"
     ]
    },
    {
     "data": {
      "text/html": [
       "<div>\n",
       "<style scoped>\n",
       "    .dataframe tbody tr th:only-of-type {\n",
       "        vertical-align: middle;\n",
       "    }\n",
       "\n",
       "    .dataframe tbody tr th {\n",
       "        vertical-align: top;\n",
       "    }\n",
       "\n",
       "    .dataframe thead th {\n",
       "        text-align: right;\n",
       "    }\n",
       "</style>\n",
       "<table border=\"1\" class=\"dataframe\">\n",
       "  <thead>\n",
       "    <tr style=\"text-align: right;\">\n",
       "      <th></th>\n",
       "      <th>term</th>\n",
       "      <th>weight</th>\n",
       "    </tr>\n",
       "  </thead>\n",
       "  <tbody>\n",
       "    <tr>\n",
       "      <th>37837</th>\n",
       "      <td>mobile phone</td>\n",
       "      <td>0.006904</td>\n",
       "    </tr>\n",
       "    <tr>\n",
       "      <th>37838</th>\n",
       "      <td>mobile phones</td>\n",
       "      <td>0.005608</td>\n",
       "    </tr>\n",
       "    <tr>\n",
       "      <th>40063</th>\n",
       "      <td>news website</td>\n",
       "      <td>0.005198</td>\n",
       "    </tr>\n",
       "    <tr>\n",
       "      <th>15736</th>\n",
       "      <td>digital music</td>\n",
       "      <td>0.004845</td>\n",
       "    </tr>\n",
       "    <tr>\n",
       "      <th>35015</th>\n",
       "      <td>mac mini</td>\n",
       "      <td>0.004779</td>\n",
       "    </tr>\n",
       "    <tr>\n",
       "      <th>11735</th>\n",
       "      <td>consumer electronics</td>\n",
       "      <td>0.004038</td>\n",
       "    </tr>\n",
       "  </tbody>\n",
       "</table>\n",
       "</div>"
      ],
      "text/plain": [
       "                       term    weight\n",
       "37837  mobile phone          0.006904\n",
       "37838  mobile phones         0.005608\n",
       "40063  news website          0.005198\n",
       "15736  digital music         0.004845\n",
       "35015  mac mini              0.004779\n",
       "11735  consumer electronics  0.004038"
      ]
     },
     "execution_count": 17,
     "metadata": {},
     "output_type": "execute_result"
    }
   ],
   "source": [
    "from sklearn.feature_extraction.text import TfidfTransformer\n",
    "from sklearn.feature_extraction import text\n",
    "\n",
    "transformer = TfidfTransformer()\n",
    "\n",
    "# Include custom list of stop words for TFIDF and LDA analysis \n",
    "stop_custom = text.ENGLISH_STOP_WORDS.union(['new','said','mr','year', 'told','bbc'])\n",
    "cv_unigram = CountVectorizer(ngram_range = (1,1), stop_words = stop_custom)\n",
    "cv_bigram = CountVectorizer(ngram_range = (2,2), stop_words = stop_custom)\n",
    "\n",
    "def unigram_themes(text):\n",
    "    data_cv_stop = cv_unigram.fit_transform(text)\n",
    "    transformed_weights = transformer.fit_transform(data_cv_stop)\n",
    "    weights = np.asarray(transformed_weights.mean(axis=0)).ravel().tolist()\n",
    "    weights_df = pd.DataFrame({'term': cv_unigram.get_feature_names(), 'weight': weights})\n",
    "    return weights_df.sort_values(by='weight', ascending=False).head(6)\n",
    "    \n",
    "def bigram_themes(text):\n",
    "    data_cv_stop = cv_bigram.fit_transform(text)\n",
    "    transformed_weights = transformer.fit_transform(data_cv_stop)\n",
    "    weights = np.asarray(transformed_weights.mean(axis=0)).ravel().tolist()\n",
    "    weights_df = pd.DataFrame({'term': cv_bigram.get_feature_names(), 'weight': weights})\n",
    "    return weights_df.sort_values(by='weight', ascending=False).head(6)\n",
    "    \n",
    "\n",
    "for i in [\"business\",\"entertainment\",\"politics\",\"sport\",\"tech\"]:\n",
    "    print(i +' ---------------------')\n",
    "    print('unigrams: ')\n",
    "    unigram_themes(data_clean['News'][data_clean['Category'] == i])\n",
    "    print('bigrams: ')\n",
    "    bigram_themes(data_clean['News'][data_clean['Category'] == i])\n",
    "\n",
    "   "
   ]
  },
  {
   "cell_type": "markdown",
   "metadata": {},
   "source": [
    "## Using LDA (Latent Dirichlet Allocation) for topic modeling by section of articles"
   ]
  },
  {
   "cell_type": "code",
   "execution_count": 18,
   "metadata": {},
   "outputs": [
    {
     "name": "stderr",
     "output_type": "stream",
     "text": [
      "C:\\Users\\Pavan Mannem\\Anaconda\\lib\\site-packages\\sklearn\\decomposition\\online_lda.py:536: DeprecationWarning: The default value for 'learning_method' will be changed from 'online' to 'batch' in the release 0.20. This warning was introduced in 0.18.\n",
      "  DeprecationWarning)\n"
     ]
    },
    {
     "data": {
      "text/plain": [
       "LatentDirichletAllocation(batch_size=128, doc_topic_prior=None,\n",
       "             evaluate_every=-1, learning_decay=0.7, learning_method=None,\n",
       "             learning_offset=10.0, max_doc_update_iter=100, max_iter=10,\n",
       "             mean_change_tol=0.001, n_components=1, n_jobs=-1,\n",
       "             n_topics=None, perp_tol=0.1, random_state=None,\n",
       "             topic_word_prior=None, total_samples=1000000.0, verbose=0)"
      ]
     },
     "execution_count": 18,
     "metadata": {},
     "output_type": "execute_result"
    },
    {
     "name": "stdout",
     "output_type": "stream",
     "text": [
      "\n",
      "Topic #0:\n",
      "market growth company economy firm bank\n"
     ]
    },
    {
     "name": "stderr",
     "output_type": "stream",
     "text": [
      "C:\\Users\\Pavan Mannem\\Anaconda\\lib\\site-packages\\sklearn\\decomposition\\online_lda.py:536: DeprecationWarning: The default value for 'learning_method' will be changed from 'online' to 'batch' in the release 0.20. This warning was introduced in 0.18.\n",
      "  DeprecationWarning)\n"
     ]
    },
    {
     "data": {
      "text/plain": [
       "LatentDirichletAllocation(batch_size=128, doc_topic_prior=None,\n",
       "             evaluate_every=-1, learning_decay=0.7, learning_method=None,\n",
       "             learning_offset=10.0, max_doc_update_iter=100, max_iter=10,\n",
       "             mean_change_tol=0.001, n_components=1, n_jobs=-1,\n",
       "             n_topics=None, perp_tol=0.1, random_state=None,\n",
       "             topic_word_prior=None, total_samples=1000000.0, verbose=0)"
      ]
     },
     "execution_count": 18,
     "metadata": {},
     "output_type": "execute_result"
    },
    {
     "name": "stdout",
     "output_type": "stream",
     "text": [
      "\n",
      "Topic #0:\n",
      "film best years music series woman\n"
     ]
    },
    {
     "name": "stderr",
     "output_type": "stream",
     "text": [
      "C:\\Users\\Pavan Mannem\\Anaconda\\lib\\site-packages\\sklearn\\decomposition\\online_lda.py:536: DeprecationWarning: The default value for 'learning_method' will be changed from 'online' to 'batch' in the release 0.20. This warning was introduced in 0.18.\n",
      "  DeprecationWarning)\n"
     ]
    },
    {
     "data": {
      "text/plain": [
       "LatentDirichletAllocation(batch_size=128, doc_topic_prior=None,\n",
       "             evaluate_every=-1, learning_decay=0.7, learning_method=None,\n",
       "             learning_offset=10.0, max_doc_update_iter=100, max_iter=10,\n",
       "             mean_change_tol=0.001, n_components=1, n_jobs=-1,\n",
       "             n_topics=None, perp_tol=0.1, random_state=None,\n",
       "             topic_word_prior=None, total_samples=1000000.0, verbose=0)"
      ]
     },
     "execution_count": 18,
     "metadata": {},
     "output_type": "execute_result"
    },
    {
     "name": "stdout",
     "output_type": "stream",
     "text": [
      "\n",
      "Topic #0:\n",
      "labour election people government party blair\n"
     ]
    },
    {
     "name": "stderr",
     "output_type": "stream",
     "text": [
      "C:\\Users\\Pavan Mannem\\Anaconda\\lib\\site-packages\\sklearn\\decomposition\\online_lda.py:536: DeprecationWarning: The default value for 'learning_method' will be changed from 'online' to 'batch' in the release 0.20. This warning was introduced in 0.18.\n",
      "  DeprecationWarning)\n"
     ]
    },
    {
     "data": {
      "text/plain": [
       "LatentDirichletAllocation(batch_size=128, doc_topic_prior=None,\n",
       "             evaluate_every=-1, learning_decay=0.7, learning_method=None,\n",
       "             learning_offset=10.0, max_doc_update_iter=100, max_iter=10,\n",
       "             mean_change_tol=0.001, n_components=1, n_jobs=-1,\n",
       "             n_topics=None, perp_tol=0.1, random_state=None,\n",
       "             topic_word_prior=None, total_samples=1000000.0, verbose=0)"
      ]
     },
     "execution_count": 18,
     "metadata": {},
     "output_type": "execute_result"
    },
    {
     "name": "stdout",
     "output_type": "stream",
     "text": [
      "\n",
      "Topic #0:\n",
      "game win england world time players\n"
     ]
    },
    {
     "name": "stderr",
     "output_type": "stream",
     "text": [
      "C:\\Users\\Pavan Mannem\\Anaconda\\lib\\site-packages\\sklearn\\decomposition\\online_lda.py:536: DeprecationWarning: The default value for 'learning_method' will be changed from 'online' to 'batch' in the release 0.20. This warning was introduced in 0.18.\n",
      "  DeprecationWarning)\n"
     ]
    },
    {
     "data": {
      "text/plain": [
       "LatentDirichletAllocation(batch_size=128, doc_topic_prior=None,\n",
       "             evaluate_every=-1, learning_decay=0.7, learning_method=None,\n",
       "             learning_offset=10.0, max_doc_update_iter=100, max_iter=10,\n",
       "             mean_change_tol=0.001, n_components=1, n_jobs=-1,\n",
       "             n_topics=None, perp_tol=0.1, random_state=None,\n",
       "             topic_word_prior=None, total_samples=1000000.0, verbose=0)"
      ]
     },
     "execution_count": 18,
     "metadata": {},
     "output_type": "execute_result"
    },
    {
     "name": "stdout",
     "output_type": "stream",
     "text": [
      "\n",
      "Topic #0:\n",
      "people games mobile technology online users\n"
     ]
    }
   ],
   "source": [
    "from sklearn.decomposition import LatentDirichletAllocation as LDA\n",
    "n_topics = 1\n",
    "n_words = 6\n",
    "\n",
    "# Tokenize unigrams and bigrams\n",
    "cv = CountVectorizer(ngram_range = (1,2), stop_words = stop_custom)\n",
    "\n",
    "def print_LDA_topics(model, count_vectorizer, n_top_words):\n",
    "    words = cv.get_feature_names()\n",
    "    for topic_idx, topic in enumerate(model.components_):\n",
    "        print(\"\\nTopic #%d:\" % topic_idx)\n",
    "        print(\" \".join([words[i] for i in topic.argsort()[:-n_top_words - 1:-1]]))\n",
    "\n",
    "        \n",
    "for i in [\"business\",\"entertainment\",\"politics\",\"sport\",\"tech\"]:\n",
    "    data_cv = cv.fit_transform(data_clean['News'][data_clean['Category'] == i])\n",
    "    lda = LDA(n_components=n_topics, n_jobs=-1)\n",
    "    lda.fit(data_cv)\n",
    "    print_LDA_topics(lda, cv, n_words)\n"
   ]
  },
  {
   "cell_type": "code",
   "execution_count": 45,
   "metadata": {},
   "outputs": [
    {
     "data": {
      "text/plain": [
       "RandomForestClassifier(bootstrap=True, class_weight=None, criterion='gini',\n",
       "            max_depth=150, max_features='auto', max_leaf_nodes=None,\n",
       "            min_impurity_decrease=0.0, min_impurity_split=None,\n",
       "            min_samples_leaf=1, min_samples_split=2,\n",
       "            min_weight_fraction_leaf=0.0, n_estimators=300, n_jobs=1,\n",
       "            oob_score=False, random_state=None, verbose=0,\n",
       "            warm_start=False)"
      ]
     },
     "execution_count": 45,
     "metadata": {},
     "output_type": "execute_result"
    }
   ],
   "source": [
    "from sklearn.feature_extraction.text import TfidfVectorizer\n",
    "\n",
    "tfidf = TfidfVectorizer(sublinear_tf=True, norm='l2', ngram_range=(1, 2), stop_words='english')\n",
    "X = tfidf.fit_transform(data_clean.News)\n",
    "Y = data_clean.Category\n",
    "\n",
    "X_train, X_test, y_train, y_test = train_test_split(X, Y, test_size=0.20, random_state=42)\n",
    "model = RandomForestClassifier(n_estimators=300, max_depth=150,n_jobs=1)\n",
    "model.fit(X_train, y_train)\n"
   ]
  },
  {
   "cell_type": "code",
   "execution_count": 47,
   "metadata": {},
   "outputs": [
    {
     "name": "stdout",
     "output_type": "stream",
     "text": [
      "Model: Random Forest Classifier \n",
      "Accuracy -  0.9595505617977528\n"
     ]
    },
    {
     "data": {
      "text/plain": [
       "<matplotlib.axes._subplots.AxesSubplot at 0x1b6a671e860>"
      ]
     },
     "execution_count": 47,
     "metadata": {},
     "output_type": "execute_result"
    },
    {
     "data": {
      "text/plain": [
       "Text(33,0.5,'Actual')"
      ]
     },
     "execution_count": 47,
     "metadata": {},
     "output_type": "execute_result"
    },
    {
     "data": {
      "text/plain": [
       "Text(0.5,15,'Predicted')"
      ]
     },
     "execution_count": 47,
     "metadata": {},
     "output_type": "execute_result"
    },
    {
     "data": {
      "image/png": "[encoded data removed]",
      "text/plain": [
       "<Figure size 432x288 with 2 Axes>"
      ]
     },
     "metadata": {
      "needs_background": "light"
     },
     "output_type": "display_data"
    }
   ],
   "source": [
    "from sklearn.metrics import accuracy_score, confusion_matrix\n",
    "y_pred = model.predict(X_test)\n",
    "acc = accuracy_score(y_test,y_pred)\n",
    "print(\"Model: Random Forest Classifier \")\n",
    "print(\"Accuracy - \", acc)\n",
    "c_mat = confusion_matrix(y_test,y_pred)\n",
    "sns.heatmap(c_mat, annot=True, fmt='d', xticklabels=[\"business\",\"entertainment\",\"politics\",\"sport\",\"tech\"], yticklabels=[\"business\",\"entertainment\",\"politics\",\"sport\",\"tech\"])\n",
    "plt.ylabel('Actual')\n",
    "plt.xlabel('Predicted')\n"
   ]
  }
 ],
 "metadata": {
  "kernelspec": {
   "display_name": "Python 3",
   "language": "python",
   "name": "python3"
  },
  "language_info": {
   "codemirror_mode": {
    "name": "ipython",
    "version": 3
   },
   "file_extension": ".py",
   "mimetype": "text/x-python",
   "name": "python",
   "nbconvert_exporter": "python",
   "pygments_lexer": "ipython3",
   "version": "3.7.0"
  }
 },
 "nbformat": 4,
 "nbformat_minor": 2
}
